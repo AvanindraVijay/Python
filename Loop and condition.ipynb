{
 "cells": [
  {
   "cell_type": "code",
   "execution_count": 4,
   "metadata": {},
   "outputs": [
    {
     "name": "stdout",
     "output_type": "stream",
     "text": [
      "150.0\n",
      "the number is greater than 100\n"
     ]
    }
   ],
   "source": [
    "#if statement\n",
    "value = input(\" enter a number\")\n",
    "value_float = float(value)\n",
    "print(value_float)\n",
    "if(value_float > 100):\n",
    "    print(\"the number is greater than 100\")\n",
    "elif(value_float == 0):\n",
    "    print(\"the number is equal to zero\")\n",
    "else:\n",
    "    print(\"the number is smaller than 100\")"
   ]
  },
  {
   "cell_type": "code",
   "execution_count": 7,
   "metadata": {},
   "outputs": [
    {
     "name": "stdout",
     "output_type": "stream",
     "text": [
      "0\n",
      "the number even\n"
     ]
    }
   ],
   "source": [
    "value = input(\" enter a number\")\n",
    "value_int = int(value)\n",
    "print(value_int)\n",
    "if(value_int%2 ==  0):\n",
    "    print(\"the number even\")\n",
    "elif(value_int %2 != 0):\n",
    "    print(\"the number is odd\")\n"
   ]
  },
  {
   "cell_type": "code",
   "execution_count": 8,
   "metadata": {},
   "outputs": [
    {
     "name": "stdout",
     "output_type": "stream",
     "text": [
      "0\n",
      "1\n",
      "2\n",
      "3\n",
      "4\n",
      "5\n",
      "6\n",
      "7\n",
      "8\n",
      "9\n"
     ]
    }
   ],
   "source": [
    "#loops statement \n",
    "'''For loop\n",
    "while loop'''\n",
    "\n",
    "lst = [0, 1, 2, 3, 4, 5, 6, 7, 8, 9 ]\n",
    "for i in lst:\n",
    "    print(i)"
   ]
  },
  {
   "cell_type": "code",
   "execution_count": 9,
   "metadata": {},
   "outputs": [
    {
     "name": "stdout",
     "output_type": "stream",
     "text": [
      "0\n",
      "1\n",
      "4\n",
      "9\n",
      "16\n",
      "25\n",
      "36\n",
      "49\n",
      "64\n",
      "81\n"
     ]
    }
   ],
   "source": [
    "lst = [0, 1, 2, 3, 4, 5, 6, 7, 8, 9 ]\n",
    "for i in lst:\n",
    "    print(i**2)"
   ]
  },
  {
   "cell_type": "code",
   "execution_count": 13,
   "metadata": {},
   "outputs": [
    {
     "name": "stdout",
     "output_type": "stream",
     "text": [
      "45\n"
     ]
    }
   ],
   "source": [
    "#find the sum of all element in list\n",
    "lst = [0, 1, 2, 3, 4, 5, 6, 7, 8, 9 ]\n",
    "sum1 = 0\n",
    "for i in lst:\n",
    "    sum1 = sum1 + i\n",
    "print(sum1)"
   ]
  },
  {
   "cell_type": "code",
   "execution_count": 14,
   "metadata": {},
   "outputs": [
    {
     "name": "stdout",
     "output_type": "stream",
     "text": [
      "even_sum is 20 and odd_sum is 25\n"
     ]
    }
   ],
   "source": [
    "lst = [0, 1, 2, 3, 4, 5, 6, 7, 8, 9 ]\n",
    "odd_sum = 0\n",
    "even_sum = 0\n",
    "for i in lst:\n",
    "    if(i%2==0):\n",
    "        even_sum = even_sum + i\n",
    "    else:\n",
    "        odd_sum = odd_sum + i\n",
    "\n",
    "print(\"even_sum is {} and odd_sum is {}\".format(even_sum, odd_sum))    "
   ]
  },
  {
   "cell_type": "code",
   "execution_count": 33,
   "metadata": {},
   "outputs": [
    {
     "name": "stdout",
     "output_type": "stream",
     "text": [
      "0\n",
      "1\n",
      "2\n",
      "3\n",
      "4\n",
      "5\n",
      "6\n",
      "7\n",
      "8\n",
      "9\n",
      "10\n",
      "30 25\n"
     ]
    }
   ],
   "source": [
    "'''while condition'''\n",
    "i = 0\n",
    "odd_sum = 0\n",
    "even_sum = 0\n",
    "while(i <= 10):\n",
    "    print(i)\n",
    "    if(i%2==0):\n",
    "        even_sum = even_sum + i\n",
    "    else:\n",
    "        odd_sum = odd_sum + i\n",
    "          \n",
    "    i = i+1\n",
    "print(even_sum, odd_sum)"
   ]
  },
  {
   "cell_type": "code",
   "execution_count": 36,
   "metadata": {},
   "outputs": [
    {
     "name": "stdout",
     "output_type": "stream",
     "text": [
      "1\n",
      "2\n",
      "3\n"
     ]
    }
   ],
   "source": [
    "#break\n",
    "i = 0\n",
    "\n",
    "while(i < 10):\n",
    "    if(i==4):\n",
    "        break  \n",
    "    print(i)     \n",
    "    i = i+1\n"
   ]
  },
  {
   "cell_type": "code",
   "execution_count": 37,
   "metadata": {},
   "outputs": [
    {
     "name": "stdout",
     "output_type": "stream",
     "text": [
      "1\n",
      "2\n",
      "3\n",
      "5\n",
      "6\n",
      "7\n",
      "8\n",
      "9\n",
      "10\n"
     ]
    }
   ],
   "source": [
    "#continue\n",
    "i = 0\n",
    "\n",
    "while(i < 10):\n",
    "    i = i+1\n",
    "    if(i==4):\n",
    "        continue  \n",
    "    print(i)     \n",
    "    "
   ]
  },
  {
   "cell_type": "code",
   "execution_count": 1,
   "metadata": {},
   "outputs": [
    {
     "name": "stdout",
     "output_type": "stream",
     "text": [
      "    *\n",
      "   ***\n",
      "  *****\n",
      " *******\n",
      "*********\n"
     ]
    }
   ],
   "source": [
    "n = 5  \n",
    "\n",
    "for i in range(n):\n",
    "    print(' ' * (n - i - 1) + '*' * (2 * i + 1))\n"
   ]
  },
  {
   "cell_type": "code",
   "execution_count": 3,
   "metadata": {},
   "outputs": [
    {
     "name": "stdout",
     "output_type": "stream",
     "text": [
      "*\n",
      "**\n",
      "***\n",
      "****\n",
      "*****\n"
     ]
    }
   ],
   "source": [
    "n = 5  \n",
    "\n",
    "for i in range(n):\n",
    "    print('*' * (i + 1))"
   ]
  },
  {
   "cell_type": "code",
   "execution_count": 8,
   "metadata": {},
   "outputs": [
    {
     "name": "stdout",
     "output_type": "stream",
     "text": [
      "*********\n",
      " *******\n",
      "  *****\n",
      "   ***\n",
      "    *\n"
     ]
    }
   ],
   "source": [
    "n = 5  \n",
    "\n",
    "for i in range(n):\n",
    "    print(' ' * i + '*' *(2*(n - i)-1))"
   ]
  },
  {
   "cell_type": "code",
   "execution_count": 9,
   "metadata": {},
   "outputs": [
    {
     "name": "stdout",
     "output_type": "stream",
     "text": [
      "    *\n",
      "   ***\n",
      "  *****\n",
      " *******\n",
      "*********\n",
      "*********\n",
      " *******\n",
      "  *****\n",
      "   ***\n",
      "    *\n"
     ]
    }
   ],
   "source": [
    "n = 5  \n",
    "for i in range(n):\n",
    "    print(' ' * (n - i - 1) + '*' * (2 * i + 1))\n",
    "for i in range(n):\n",
    "    print(' ' * i + '*' *(2*(n - i)-1))"
   ]
  },
  {
   "cell_type": "code",
   "execution_count": 78,
   "metadata": {},
   "outputs": [
    {
     "ename": "IndentationError",
     "evalue": "unexpected indent (3073413725.py, line 5)",
     "output_type": "error",
     "traceback": [
      "\u001b[1;36m  Cell \u001b[1;32mIn[78], line 5\u001b[1;36m\u001b[0m\n\u001b[1;33m    for j in range(1,i+1):\u001b[0m\n\u001b[1;37m    ^\u001b[0m\n\u001b[1;31mIndentationError\u001b[0m\u001b[1;31m:\u001b[0m unexpected indent\n"
     ]
    }
   ],
   "source": [
    "n = 5\n",
    "for i in range(1,n+1):\n",
    "    print(' '*(n-i), end ='')\n",
    "    \n",
    "    for j in range(1,i+1):\n",
    "        print(j, end = '')\n",
    "    \n",
    "    for j in range(i-1, 0, -1):\n",
    "        print(j, end='')\n",
    "    \n",
    "    print()"
   ]
  },
  {
   "cell_type": "code",
   "execution_count": 45,
   "metadata": {},
   "outputs": [
    {
     "name": "stdout",
     "output_type": "stream",
     "text": [
      "1\n",
      "2\n",
      "3\n",
      "5\n",
      "8\n",
      "13\n",
      "21\n",
      "34\n",
      "55\n",
      "89\n",
      "144\n",
      "233\n",
      "377\n",
      "610\n",
      "987\n"
     ]
    }
   ],
   "source": [
    "n = int(input(\"enter number\"))\n",
    "a = 0\n",
    "b = 1\n",
    "\n",
    "for i in range(n):\n",
    "    c = a+b\n",
    "    print(c)\n",
    "    a = b\n",
    "    b = c"
   ]
  },
  {
   "cell_type": "code",
   "execution_count": 51,
   "metadata": {},
   "outputs": [
    {
     "name": "stdout",
     "output_type": "stream",
     "text": [
      "3628800\n"
     ]
    }
   ],
   "source": [
    "n = int(input(\"enter number\"))\n",
    "\n",
    "factorial = 1\n",
    "for i in range(1,n+1):\n",
    "    factorial *= i\n",
    "print(factorial)\n",
    "    "
   ]
  },
  {
   "cell_type": "code",
   "execution_count": 67,
   "metadata": {},
   "outputs": [
    {
     "name": "stdout",
     "output_type": "stream",
     "text": [
      "15\n"
     ]
    }
   ],
   "source": [
    "n = int(input(\"enter number\"))\n",
    "\n",
    "sumOfDigit = 0\n",
    "for i in range(n+1):\n",
    "    sumOfDigit += i\n",
    "print(sumOfDigit)"
   ]
  },
  {
   "cell_type": "code",
   "execution_count": 63,
   "metadata": {},
   "outputs": [
    {
     "name": "stdout",
     "output_type": "stream",
     "text": [
      "15\n"
     ]
    }
   ],
   "source": [
    "x = int(input(\"enter number\"))\n",
    "y = 0\n",
    "for i in range(x):\n",
    "    if(x>0):\n",
    "        y += x % 10\n",
    "        x = x//10\n",
    "print(y)"
   ]
  },
  {
   "cell_type": "code",
   "execution_count": 68,
   "metadata": {},
   "outputs": [
    {
     "name": "stdout",
     "output_type": "stream",
     "text": [
      "15\n"
     ]
    }
   ],
   "source": [
    "x = int(input(\"enter number\"))\n",
    "y = 0\n",
    "while(x>0):\n",
    "    y += x % 10\n",
    "    x = x//10\n",
    "print(y)"
   ]
  },
  {
   "cell_type": "code",
   "execution_count": 9,
   "metadata": {},
   "outputs": [
    {
     "name": "stdout",
     "output_type": "stream",
     "text": [
      "153\n",
      "Armstrong yes\n"
     ]
    }
   ],
   "source": [
    "n = int(input(\"enter number\"))\n",
    "\n",
    "num = str(n)\n",
    "\n",
    "number = len(num)\n",
    "\n",
    "sum = 0\n",
    "print(n)\n",
    "for i in num:\n",
    "    sum +=  int(i) ** number\n",
    "\n",
    "if (n == sum):\n",
    "    print(\"Armstrong yes\")\n",
    "else:\n",
    "    print(\"Armstrong no\")\n"
   ]
  },
  {
   "cell_type": "code",
   "execution_count": 8,
   "metadata": {},
   "outputs": [
    {
     "name": "stdout",
     "output_type": "stream",
     "text": [
      "12321\n",
      "palindrome yes\n"
     ]
    }
   ],
   "source": [
    "x = int(input(\"Enter number\"))\n",
    "y = str(x)\n",
    "print(x)\n",
    "if x == int(y[::-1]):\n",
    "    print(\"palindrome yes\")\n",
    "else:\n",
    "    print(\"palindrome no\")"
   ]
  }
 ],
 "metadata": {
  "kernelspec": {
   "display_name": "base",
   "language": "python",
   "name": "python3"
  },
  "language_info": {
   "codemirror_mode": {
    "name": "ipython",
    "version": 3
   },
   "file_extension": ".py",
   "mimetype": "text/x-python",
   "name": "python",
   "nbconvert_exporter": "python",
   "pygments_lexer": "ipython3",
   "version": "3.11.5"
  }
 },
 "nbformat": 4,
 "nbformat_minor": 2
}
