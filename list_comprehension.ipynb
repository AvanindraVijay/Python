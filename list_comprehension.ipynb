{
 "cells": [
  {
   "cell_type": "markdown",
   "metadata": {},
   "source": [
    "# List Comprehension"
   ]
  },
  {
   "cell_type": "code",
   "execution_count": 1,
   "metadata": {},
   "outputs": [
    {
     "data": {
      "text/plain": [
       "list"
      ]
     },
     "execution_count": 1,
     "metadata": {},
     "output_type": "execute_result"
    }
   ],
   "source": [
    "type([1,2,3,4,5,5])"
   ]
  },
  {
   "cell_type": "code",
   "execution_count": 3,
   "metadata": {},
   "outputs": [
    {
     "name": "stdout",
     "output_type": "stream",
     "text": [
      "[0, 1, 2, 3, 4, 5, 6, 7, 8, 9]\n"
     ]
    }
   ],
   "source": [
    "lst = []\n",
    "for i in range(0,10):\n",
    "    lst.append(i)\n",
    "\n",
    "print(lst)\n"
   ]
  },
  {
   "cell_type": "code",
   "execution_count": 5,
   "metadata": {},
   "outputs": [
    {
     "name": "stdout",
     "output_type": "stream",
     "text": [
      "lst1 :  [0, 1, 4, 9, 16, 25, 36]\n"
     ]
    }
   ],
   "source": [
    "lst0 = [0,1,2,3,4,5,6]\n",
    "lst1 = []\n",
    "\n",
    "for i in lst0:\n",
    "    lst1.append(i**2)\n",
    "\n",
    "print(\"lst1 : \", lst1)"
   ]
  },
  {
   "cell_type": "code",
   "execution_count": 6,
   "metadata": {},
   "outputs": [
    {
     "name": "stdout",
     "output_type": "stream",
     "text": [
      "square_number:  [1, 4, 9, 16, 25]\n"
     ]
    }
   ],
   "source": [
    "numbers = [1,2,3,4,5]\n",
    "square_number = [i**2 for i in numbers]\n",
    "print(\"square_number: \",square_number)"
   ]
  },
  {
   "cell_type": "code",
   "execution_count": 8,
   "metadata": {},
   "outputs": [
    {
     "name": "stdout",
     "output_type": "stream",
     "text": [
      "even_numbers:  [2, 4, 6, 8, 10]\n"
     ]
    }
   ],
   "source": [
    "#filtering an even number from list\n",
    "numbers = [1,2,3,4,5,6,7,8,9,10]\n",
    "even_numbers = [ num for num in numbers if num%2==0]\n",
    "print(\"even_numbers: \",even_numbers)"
   ]
  },
  {
   "cell_type": "code",
   "execution_count": 10,
   "metadata": {},
   "outputs": [
    {
     "name": "stdout",
     "output_type": "stream",
     "text": [
      "flattend_list:  [1, 2, 3, 4, 5, 6, 7, 8, 9]\n"
     ]
    }
   ],
   "source": [
    "#filtering an list of lists\n",
    "lists = [1,2,3], [4,5,6], [7,8,9]\n",
    "flattend_list = [item for sublist in lists for item in sublist]\n",
    "print(\"flattend_list: \", flattend_list)"
   ]
  },
  {
   "cell_type": "code",
   "execution_count": 11,
   "metadata": {},
   "outputs": [
    {
     "name": "stdout",
     "output_type": "stream",
     "text": [
      "first_letters:  ['a', 'b', 'c', 'd']\n"
     ]
    }
   ],
   "source": [
    "#Generating a list of first letter of words in a list\n",
    "words = ['apple', 'banana', 'cherry', 'date']\n",
    "first_letters  = [word[0] for word in words]\n",
    "print(\"first_letters: \", first_letters)"
   ]
  },
  {
   "cell_type": "code",
   "execution_count": 13,
   "metadata": {},
   "outputs": [
    {
     "name": "stdout",
     "output_type": "stream",
     "text": [
      "square_even_numbers:  [4, 16, 36, 64, 100]\n"
     ]
    }
   ],
   "source": [
    "# Generating a list of a square number of even numbers\n",
    "lists = [1,2,3,4,5,6,7,8,9,10]\n",
    "square_even_numbers = [ num**2 for num in numbers if num%2==0]\n",
    "print(\"square_even_numbers: \", square_even_numbers)"
   ]
  },
  {
   "cell_type": "code",
   "execution_count": 18,
   "metadata": {},
   "outputs": [
    {
     "data": {
      "text/plain": [
       "[1, 2, 3, 4, 5]"
      ]
     },
     "execution_count": 18,
     "metadata": {},
     "output_type": "execute_result"
    }
   ],
   "source": [
    "## Converting a list of strings to a list of integers\n",
    "strings = ['1', '2', '3', '4', '5']\n",
    "[int(string) for string in strings]\n"
   ]
  },
  {
   "cell_type": "code",
   "execution_count": 20,
   "metadata": {},
   "outputs": [
    {
     "data": {
      "text/plain": [
       "[1, 2, 3, 5, 8]"
      ]
     },
     "execution_count": 20,
     "metadata": {},
     "output_type": "execute_result"
    }
   ],
   "source": [
    "## Generating a list of the Fibonacci sequence using a list comprehension\n",
    "fib = [0, 1, 1, 2, 3, 5, 8]\n",
    "\n",
    "[fib[i-1]+ fib[i-2] for i in range(2,len(fib))]\n"
   ]
  },
  {
   "cell_type": "code",
   "execution_count": 22,
   "metadata": {},
   "outputs": [
    {
     "data": {
      "text/plain": [
       "[1, 2, 3, 4, 6, 9, 12, 18, 36]"
      ]
     },
     "execution_count": 22,
     "metadata": {},
     "output_type": "execute_result"
    }
   ],
   "source": [
    "##Generating a list of all the divisors of a number:\n",
    "\n",
    "number =36\n",
    "[i for i in range(1,number+1) if number%i==0]"
   ]
  },
  {
   "cell_type": "code",
   "execution_count": null,
   "metadata": {},
   "outputs": [],
   "source": [
    "## Generating a list of all the prime numbers less than a given number:\n",
    "\n",
    "\n"
   ]
  },
  {
   "cell_type": "markdown",
   "metadata": {},
   "source": [
    "# Question"
   ]
  },
  {
   "cell_type": "code",
   "execution_count": 1,
   "metadata": {},
   "outputs": [
    {
     "name": "stdout",
     "output_type": "stream",
     "text": [
      "square_tuples:  [(1, 1), (3, 9), (5, 25), (7, 49), (9, 81), (11, 121), (13, 169), (15, 225), (17, 289), (19, 361)]\n"
     ]
    }
   ],
   "source": [
    "#Generate a list of tuples (number, square) for numbers from 1 to 10:\n",
    "\n",
    "square_tuples = [(x, x**2) for x in range(1, 21, 2)]\n",
    "print(\"square_tuples: \", square_tuples)"
   ]
  },
  {
   "cell_type": "code",
   "execution_count": 5,
   "metadata": {},
   "outputs": [
    {
     "name": "stdout",
     "output_type": "stream",
     "text": [
      "e_words:  ['apple', 'date']\n"
     ]
    }
   ],
   "source": [
    "# Filter a list of strings to get only those starting with a specific letter:\n",
    "\n",
    "words = ['apple', 'banana', 'cherry', 'date', 'elderberry']\n",
    "e_words = [word for word in words if word.endswith('e')]\n",
    "print(\"e_words: \", e_words)"
   ]
  },
  {
   "cell_type": "code",
   "execution_count": 18,
   "metadata": {},
   "outputs": [
    {
     "name": "stdout",
     "output_type": "stream",
     "text": [
      "['apple']\n"
     ]
    }
   ],
   "source": [
    "# Filter a list of strings to get only those starting with a specific letter:\n",
    "\n",
    "words = ['apple', 'banana', 'cherry', 'date', 'elderberry']\n",
    "a_words = [word for word in words if word.startswith('a')]\n",
    "print(a_words)"
   ]
  },
  {
   "cell_type": "code",
   "execution_count": 31,
   "metadata": {},
   "outputs": [
    {
     "name": "stdout",
     "output_type": "stream",
     "text": [
      "upper_case:  ['Apple', 'Banana', 'Cherry', 'Date', 'Elderberry']\n"
     ]
    }
   ],
   "source": [
    "# Convert a list of strings to first letter uppercase:\n",
    "words = ['apple', 'banana', 'cherry', 'date', 'elderberry']\n",
    "upper_case = [word.capitalize() for word in words]\n",
    "print(\"upper_case: \", upper_case)"
   ]
  },
  {
   "cell_type": "code",
   "execution_count": 39,
   "metadata": {},
   "outputs": [
    {
     "name": "stdout",
     "output_type": "stream",
     "text": [
      "['1', '2', '3', '4', '5']\n",
      "['v', 'a', 'n', 'i', 'n', 'd', 'r']\n",
      "['A', 'A']\n",
      "['A', 'v', 'a', 'n', 'i', 'n', 'd', 'r', 'A']\n",
      "['a', 'v', 'a', 'n', 'i', 'n', 'd', 'r', 'a']\n",
      "['A', 'v', 'a', 'n', 'i', 'n', 'd', 'r', 'A', '1', '2', '3', '4', '5']\n"
     ]
    }
   ],
   "source": [
    "x = 'AvanindrA12345'\n",
    "print([char for char in x if char.isdigit() ])\n",
    "print([char for char in x if char.islower() ])\n",
    "print([char for char in x if char.isupper() ])\n",
    "print([char for char in x if char.isalpha() ])\n",
    "print([char.lower() for char in x if char.isalpha()])\n",
    "print([char for char in x if char.capitalize()])"
   ]
  },
  {
   "cell_type": "code",
   "execution_count": 9,
   "metadata": {},
   "outputs": [
    {
     "name": "stdout",
     "output_type": "stream",
     "text": [
      "upper_case:  ['APPLE', 'BANANA', 'CHERRY', 'DATE', 'ELDERBERRY']\n"
     ]
    }
   ],
   "source": [
    "# Convert a list of strings to uppercase:\n",
    "words = ['apple', 'banana', 'cherry', 'date', 'elderberry']\n",
    "upper_case = [word.upper() for word in words]\n",
    "print(\"upper_case: \", upper_case)"
   ]
  },
  {
   "cell_type": "code",
   "execution_count": 10,
   "metadata": {},
   "outputs": [
    {
     "name": "stdout",
     "output_type": "stream",
     "text": [
      "digits:  ['1', '2', '3', '4', '5', '6']\n"
     ]
    }
   ],
   "source": [
    "# Extract digits from a string:\n",
    "\n",
    "str = 'abc123def456'\n",
    "\n",
    "digits = [char for char in str if char.isdigit()]\n",
    "print(\"digits: \", digits)"
   ]
  },
  {
   "cell_type": "code",
   "execution_count": 13,
   "metadata": {},
   "outputs": [
    {
     "name": "stdout",
     "output_type": "stream",
     "text": [
      "replace_vowels:  ['*ppl*', 'b*n*n*', 'ch*rry', 'd*t*', '*ld*rb*rry']\n"
     ]
    }
   ],
   "source": [
    "# Replace vowels in a list of strings with '*':\n",
    "\n",
    "words = ['apple', 'banana', 'cherry', 'date', 'elderberry']\n",
    "vowels = 'aeiou'\n",
    "replace_vowels = [''.join('*'if char in vowels else char for char in word)for word in words]\n",
    "print(\"replace_vowels: \", replace_vowels)"
   ]
  },
  {
   "cell_type": "code",
   "execution_count": 14,
   "metadata": {},
   "outputs": [
    {
     "name": "stdout",
     "output_type": "stream",
     "text": [
      "[1, 2, 6, 24, 120]\n"
     ]
    }
   ],
   "source": [
    "# Create a list of factorials for numbers from 1 to 5:\n",
    "import math\n",
    "factorials = [math.factorial(x) for x in range(1, 6)]\n",
    "print(factorials)  # Output: [1, 2, 6, 24, 120]\n"
   ]
  },
  {
   "cell_type": "code",
   "execution_count": 15,
   "metadata": {},
   "outputs": [
    {
     "name": "stdout",
     "output_type": "stream",
     "text": [
      "[0, 1, 1, 2, 3, 5, 8, 13, 21, 34]\n"
     ]
    }
   ],
   "source": [
    "# Generate a list of the first 10 Fibonacci numbers:\n",
    "fib = [0, 1]\n",
    "[fib.append(fib[-1] + fib[-2]) for _ in range(8)]\n",
    "print(fib)  # Output: [0, 1, 1, 2, 3, 5, 8, 13, 21, 34]\n"
   ]
  },
  {
   "cell_type": "code",
   "execution_count": 16,
   "metadata": {},
   "outputs": [
    {
     "name": "stdout",
     "output_type": "stream",
     "text": [
      "transposed:  [[1, 4, 7], [2, 5, 8], [3, 6, 9]]\n"
     ]
    }
   ],
   "source": [
    "# Transpose a matrix using list comprehension:\n",
    "\n",
    "matrix = [\n",
    "    [1, 2, 3],\n",
    "    [4, 5, 6],\n",
    "    [7, 8, 9]\n",
    "]\n",
    "\n",
    "transposed = [[row[i] for row in matrix]for i in range(len(matrix[0]))]\n",
    "print(\"transposed: \", transposed)"
   ]
  }
 ],
 "metadata": {
  "kernelspec": {
   "display_name": "base",
   "language": "python",
   "name": "python3"
  },
  "language_info": {
   "codemirror_mode": {
    "name": "ipython",
    "version": 3
   },
   "file_extension": ".py",
   "mimetype": "text/x-python",
   "name": "python",
   "nbconvert_exporter": "python",
   "pygments_lexer": "ipython3",
   "version": "3.11.5"
  }
 },
 "nbformat": 4,
 "nbformat_minor": 2
}
